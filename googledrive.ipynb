{
  "nbformat": 4,
  "nbformat_minor": 0,
  "metadata": {
    "colab": {
      "name": "googledrive.ipynb",
      "provenance": [],
      "collapsed_sections": [],
      "authorship_tag": "ABX9TyPtAp9aX9dMndS2xX0FCffR",
      "include_colab_link": true
    },
    "kernelspec": {
      "name": "python3",
      "display_name": "Python 3"
    },
    "language_info": {
      "name": "python"
    }
  },
  "cells": [
    {
      "cell_type": "markdown",
      "metadata": {
        "id": "view-in-github",
        "colab_type": "text"
      },
      "source": [
        "<a href=\"https://colab.research.google.com/github/edyadan/simple/blob/master/googledrive.ipynb\" target=\"_parent\"><img src=\"https://colab.research.google.com/assets/colab-badge.svg\" alt=\"Open In Colab\"/></a>"
      ]
    },
    {
      "cell_type": "code",
      "metadata": {
        "id": "WmeS_PpjWATK"
      },
      "source": [
        "download_by_folder('08_04_2021','/home','.pdf')"
      ],
      "execution_count": null,
      "outputs": []
    },
    {
      "cell_type": "code",
      "metadata": {
        "id": "NQX0hbfYaEKc"
      },
      "source": [
        "from google.colab import auth\n",
        "auth.authenticate_user()"
      ],
      "execution_count": 1,
      "outputs": []
    },
    {
      "cell_type": "code",
      "metadata": {
        "id": "9ciAiFWz-cZF"
      },
      "source": [
        "project_id = 'mi-proyecto-304014'\n",
        "bucket_name = 'cloud-ai-platform-011fa2a5-83d5-4678-b9ea-4367383a3a10'\n",
        "!gcloud config set project {project_id}\n",
        "!gsutil cp gs://{bucket_name}/credentials.json /content\n",
        "!gsutil cp gs://{bucket_name}/mime.json /content\n",
        "!gsutil cp gs://{bucket_name}/storage.json /content\n",
        "!pip install pdf2image\n",
        "!apt-get install poppler-utils"
      ],
      "execution_count": null,
      "outputs": []
    },
    {
      "cell_type": "code",
      "metadata": {
        "id": "t0qinVgG83lh"
      },
      "source": [
        "from google.colab import files\n",
        " \n",
        "uploaded = files.upload()\n",
        " \n",
        "for fn in uploaded.keys():\n",
        "  print('User uploaded file \"{name}\" with length {length} bytes'.format(\n",
        "      name=fn, length=len(uploaded[fn])))"
      ],
      "execution_count": null,
      "outputs": []
    },
    {
      "cell_type": "code",
      "metadata": {
        "id": "ZxWLDQOA9ttr",
        "cellView": "code"
      },
      "source": [
        "from apiclient import discovery\n",
        "from httplib2 import Http\n",
        "from oauth2client import file, client, tools\n",
        "from apiclient.http import MediaIoBaseDownload\n",
        "from apiclient.http import MediaFileUpload\n",
        "import pandas as pd\n",
        "import io\n",
        "import json\n",
        "from pdf2image import convert_from_path\n",
        " \n",
        "SCOPES = 'https://www.googleapis.com/auth/drive'\n",
        "store = file.Storage('storage.json')\n",
        "creds = store.get()\n",
        "if not creds or creds.invalid:\n",
        "    flow = client.flow_from_clientsecrets('credentials.json', SCOPES)\n",
        "    creds = tools.run_flow(flow, store)\n",
        "service = discovery.build('drive', 'v2', http=creds.authorize(Http()))\n",
        "def upload(file_name,path_dest):\n",
        "    response_folder = service.files().list(q=\"mimeType='application/vnd.google-apps.folder'\",\n",
        "                                      spaces='drive',\n",
        "                                      fields=\"items(id,title)\",\n",
        "                                      pageToken=None).execute()\n",
        "    df = pd.DataFrame(response_folder['items'])\n",
        "    idfolder = df[ (df['title'] == path_dest)]['id'][0]\n",
        "    ext = file_name.split('.')[-1]\n",
        "    with open('mime.json') as json_file:\n",
        "        data = json.load(json_file)\n",
        "    df = pd.DataFrame(data['items'])\n",
        "    mimetype = df[ (df['ext'] == ext)]['mime'].values[0]    \n",
        "    name = file_name.split('/')[-1]\n",
        "    body = {\n",
        "    'title': name,\n",
        "    'mimeType': mimetype,\n",
        "    \"parents\": [{\"id\": idfolder, \"kind\": \"drive#childList\"}] }                 \n",
        "    media_body = MediaFileUpload(file_name, mimetype=mimetype, resumable=True)\n",
        "    res = service.files().insert(\n",
        "                body=body,\n",
        "                media_body= media_body).execute()\n",
        "    return True\n",
        "def download_by_folder(folder_orig, path_dest, file_name):\n",
        "    response_folder = service.files().list(q=\"mimeType='application/vnd.google-apps.folder'\",\n",
        "                                      spaces='drive',\n",
        "                                      fields=\"items(id,title)\",\n",
        "                                      pageToken=None).execute()\n",
        "    df = pd.DataFrame(response_folder['items'])\n",
        "    idfolder = df[ (df['title'] == folder_orig)]['id'][0]\n",
        "    \n",
        "    query = \"'{}' in parents and title contains '{}'\".format(idfolder, file_name)\n",
        "    response_files = service.files().list(q=query,\n",
        "                                      spaces='drive',\n",
        "                                      fields=\"items(id,title)\",\n",
        "                                      pageToken=None).execute()\n",
        "    for k in response_files['items']:\n",
        "        tmp_file = path_dest + '/' + k['title']\n",
        "        fh = io.FileIO(tmp_file,'wb')     \n",
        "        request1 = service.files().get_media(fileId=k['id'])\n",
        "        downloader = MediaIoBaseDownload(fh, request1)\n",
        "        done = False\n",
        "        while done is False:\n",
        "            status, done = downloader.next_chunk()\n",
        "        fh.close()\n",
        "        '''convert'''\n",
        "        pages = convert_from_path(tmp_file, 300)\n",
        "        pages[0].save(tmp_file.split('.')[0]+'.jpg','JPEG')\n",
        "        upload(tmp_file.split('.')[0]+'.jpg',folder_orig)\n",
        "        print(tmp_file)\n",
        "def id_files_subfolder(folder,subfolder,file_name):\n",
        "    response_folder = service.files().list(q=\"mimeType='application/vnd.google-apps.folder'\",\n",
        "                                      spaces='drive',\n",
        "                                      fields=\"items(id,title,parents)\",\n",
        "                                      pageToken=None).execute()\n",
        "    df = pd.DataFrame(response_folder['items'])\n",
        "    df['parents']=df['parents'].apply(lambda x : x[0]['id'] if x else '' )\n",
        "    idfolder = df[ (df['title'] == folder)]['id'].values[0]\n",
        "    idsubfolder =  df[ (df['parents'] == idfolder)]['id'].values[0]\n",
        "    query = \"'{}' in parents and title contains '{}'\".format(idsubfolder, file_name)\n",
        "    response_files = service.files().list(q=query,\n",
        "                                      spaces='drive',\n",
        "                                      fields=\"items(id,title)\",\n",
        "                                      pageToken=None).execute()\n",
        "    idfile=response_files['items'][0]['id']\n",
        "    return idfile         \n",
        "def download_file(path_dest,file_name):\n",
        "    query = \"title contains '{}'\".format(file_name)\n",
        "    response_files = service.files().list(q=query,\n",
        "                                      spaces='drive',\n",
        "                                      fields=\"items(id,title)\",\n",
        "                                      pageToken=None).execute()\n",
        "    for k in response_files['items']:\n",
        "        tmp_file = tmp_file = '/' + path_dest + '/' + k['title']\n",
        "        fh = io.FileIO(tmp_file,'wb')     \n",
        "        request1 = service.files().get_media(fileId=k['id'])\n",
        "        downloader = MediaIoBaseDownload(fh, request1)\n",
        "        done = False\n",
        "        while done is False:\n",
        "            status, done = downloader.next_chunk()\n",
        "        fh.close()\n",
        "        return file_name"
      ],
      "execution_count": 6,
      "outputs": []
    },
    {
      "cell_type": "code",
      "metadata": {
        "colab": {
          "base_uri": "https://localhost:8080/"
        },
        "id": "LDbKb3OYny5c",
        "outputId": "e6d9e222-8531-4dc9-da02-58860156e10f"
      },
      "source": [
        "!ls /content"
      ],
      "execution_count": 9,
      "outputs": [
        {
          "output_type": "stream",
          "text": [
            "adc.json  credentials.json  mime.json  sample_data  storage.json  tmp\n"
          ],
          "name": "stdout"
        }
      ]
    },
    {
      "cell_type": "code",
      "metadata": {
        "id": "_RYu9wMdvhNd"
      },
      "source": [
        ""
      ],
      "execution_count": null,
      "outputs": []
    }
  ]
}